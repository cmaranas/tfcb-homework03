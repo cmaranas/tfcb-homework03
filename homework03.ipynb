{
 "cells": [
  {
   "cell_type": "markdown",
   "metadata": {},
   "source": [
    "# Homework03 (10 points): The genetic code as a python `dict`\n",
    "\n",
    "Any code that's already here in the notebook or in the lectures is fair game. I've provided outline code for some of the problems; you are welcome to use that but you don't have to.\n",
    "\n",
    "Please post questions to the `lectures-homework` slack channel. Phil is also available via email (pbradley@fredhutch.org)."
   ]
  },
  {
   "cell_type": "code",
   "execution_count": 1,
   "metadata": {},
   "outputs": [],
   "source": [
    "genetic_code = {\n",
    "    'AAA': 'K', 'AAC': 'N', 'AAG': 'K', 'AAT': 'N', \n",
    "    'ACA': 'T', 'ACC': 'T', 'ACG': 'T', 'ACT': 'T', \n",
    "    'AGA': 'R', 'AGC': 'S', 'AGG': 'R', 'AGT': 'S', \n",
    "    'ATA': 'I', 'ATC': 'I', 'ATG': 'M', 'ATT': 'I', \n",
    "    'CAA': 'Q', 'CAC': 'H', 'CAG': 'Q', 'CAT': 'H', \n",
    "    'CCA': 'P', 'CCC': 'P', 'CCG': 'P', 'CCT': 'P', \n",
    "    'CGA': 'R', 'CGC': 'R', 'CGG': 'R', 'CGT': 'R', \n",
    "    'CTA': 'L', 'CTC': 'L', 'CTG': 'L', 'CTT': 'L', \n",
    "    'GAA': 'E', 'GAC': 'D', 'GAG': 'E', 'GAT': 'D', \n",
    "    'GCA': 'A', 'GCC': 'A', 'GCG': 'A', 'GCT': 'A', \n",
    "    'GGA': 'G', 'GGC': 'G', 'GGG': 'G', 'GGT': 'G', \n",
    "    'GTA': 'V', 'GTC': 'V', 'GTG': 'V', 'GTT': 'V', \n",
    "    'TAA': '*', 'TAC': 'Y', 'TAG': '*', 'TAT': 'Y', \n",
    "    'TCA': 'S', 'TCC': 'S', 'TCG': 'S', 'TCT': 'S', \n",
    "    'TGA': '*', 'TGC': 'C', 'TGG': 'W', 'TGT': 'C', \n",
    "    'TTA': 'L', 'TTC': 'F', 'TTG': 'L', 'TTT': 'F'\n",
    "}\n"
   ]
  },
  {
   "cell_type": "markdown",
   "metadata": {},
   "source": [
    "# Q1 (1 point). What does `TGC` code for?\n",
    "\n",
    "Create a string called codon that is equal to `'TGC'` and use the genetic_code dictionary to look up its translation."
   ]
  },
  {
   "cell_type": "code",
   "execution_count": 2,
   "metadata": {},
   "outputs": [],
   "source": [
    "# what does TGC code for?\n",
    "codon = genetic_code.get('TGC')\n"
   ]
  },
  {
   "cell_type": "markdown",
   "metadata": {},
   "source": [
    "# Q2 (2 points). How many codons code for each amino acid?\n",
    "\n",
    "Do this with a `for` loop over the amino acids (plus stop aka `'*'`), inside of which you figure out how many codons code for that amino acid and print out the amino acid and the number of codons. You should get an output like this:\n",
    "\n",
    "```\n",
    "* 3\n",
    "A 4\n",
    "C 2\n",
    "D 2\n",
    "```\n",
    "etc."
   ]
  },
  {
   "cell_type": "markdown",
   "metadata": {},
   "source": [
    "For starters, here's a way to get a non-redundant list of the values in a dictionary:"
   ]
  },
  {
   "cell_type": "code",
   "execution_count": 3,
   "metadata": {},
   "outputs": [],
   "source": [
    "# set is another builtin python type, like list or dict. It's a nice way of removing duplicates.\n",
    "# Here we build a set from all the values (amino acids) in the genetic code dictionary.\n",
    "# sorted turns it back into a (sorted) list.\n",
    "aa_dict = {key: 0 for key in sorted(set(genetic_code.values()))}"
   ]
  },
  {
   "cell_type": "code",
   "execution_count": 4,
   "metadata": {},
   "outputs": [
    {
     "name": "stdout",
     "output_type": "stream",
     "text": [
      "* 3\n",
      "A 4\n",
      "C 2\n",
      "D 2\n",
      "E 2\n",
      "F 2\n",
      "G 4\n",
      "H 2\n",
      "I 3\n",
      "K 2\n",
      "L 6\n",
      "M 1\n",
      "N 2\n",
      "P 4\n",
      "Q 2\n",
      "R 6\n",
      "S 6\n",
      "T 4\n",
      "V 4\n",
      "W 1\n",
      "Y 2\n"
     ]
    }
   ],
   "source": [
    "# how many codons for each amino acid?\n",
    "for codon in genetic_code:\n",
    "    aa_temp = genetic_code.get(codon)\n",
    "    aa_dict[aa_temp] += 1\n",
    "\n",
    "for key, value in aa_dict.items():\n",
    "    print(key, value)"
   ]
  },
  {
   "cell_type": "markdown",
   "metadata": {},
   "source": [
    "# Q3 (3 points). Write a translation function that takes in a DNA sequence and returns a protein sequence.\n",
    "\n",
    "Extra nucleotides at the end should be ignored.\n",
    "\n",
    "Use it to translate the sequence `CCTCATATTTTGTGAATTTCTTGAGCTTGAGGTCGTGAGGCTACTTGAACTGAGGCTTGTCATGAGCGTT`\n",
    "\n",
    "If you are so inclined, see how short you can make your function. Can you do it in one line?"
   ]
  },
  {
   "cell_type": "code",
   "execution_count": 5,
   "metadata": {},
   "outputs": [
    {
     "data": {
      "text/plain": [
       "['P',\n",
       " 'H',\n",
       " 'I',\n",
       " 'L',\n",
       " '*',\n",
       " 'I',\n",
       " 'S',\n",
       " '*',\n",
       " 'A',\n",
       " '*',\n",
       " 'G',\n",
       " 'R',\n",
       " 'E',\n",
       " 'A',\n",
       " 'T',\n",
       " '*',\n",
       " 'T',\n",
       " 'E',\n",
       " 'A',\n",
       " 'C',\n",
       " 'H',\n",
       " 'E',\n",
       " 'R']"
      ]
     },
     "execution_count": 5,
     "metadata": {},
     "output_type": "execute_result"
    }
   ],
   "source": [
    "# translation function\n",
    "def translate(dna_seq):\n",
    "    prot_seq=[]\n",
    "    for i in range(0, len(dna_seq)-1, 3): prot_seq.append(genetic_code.get(dna_seq[i:i+3])) \n",
    "    return prot_seq\n",
    "    \n",
    "translate('CCTCATATTTTGTGAATTTCTTGAGCTTGAGGTCGTGAGGCTACTTGAACTGAGGCTTGTCATGAGCGTT')\n",
    "\n"
   ]
  },
  {
   "cell_type": "markdown",
   "metadata": {},
   "source": [
    "# Q4 (4 points). Translate a SARS COV2 genome sequence; what are the longest open reading frames in all 6 frames?\n",
    "\n",
    "Here by open reading frame I just mean a stretch of codons that doesn't contain any stop codons. Since we translate DNA in blocks of three nucleotides, there are three different frames in which to translate the forward strand, and three more in which you can translate the reverse strand.\n",
    "\n",
    "You can answer either in terms of the length of the frame at the nucleotide or protein level, just be clear."
   ]
  },
  {
   "cell_type": "markdown",
   "metadata": {},
   "source": [
    "This little snippet will read the SARS COV2 genome DNA sequence into the string called `genome`:"
   ]
  },
  {
   "cell_type": "code",
   "execution_count": 6,
   "metadata": {},
   "outputs": [],
   "source": [
    "# \n",
    "filename = 'data/sars_cov2_genome_sequence.txt'\n",
    "# lines is a list of strings, one containing each line of the file\n",
    "# the first line is a header, get rid of that one using list slicing (ie, lines[1:])\n",
    "# then join them together using the string join method (ie, ''.join(...))\n",
    "# each line ends with a newline character, remove those with the string replace method\n",
    "# see how we can do lots of things in one line (first slicing, then joining, then replacing):\n",
    "# can you see why they happen in that order?\n",
    "lines = open(filename,'r').readlines()\n",
    "\n",
    "genome = ''.join(lines[1:]).replace('\\n','')\n"
   ]
  },
  {
   "cell_type": "markdown",
   "metadata": {},
   "source": [
    "Now translate genome into a protein sequence in three different frames, storing the resulting sequences in three different string variables (maybe prot1, prot2, prot3?).\n",
    "\n",
    "e.g. `prot1 = translate(genome)`\n",
    "\n",
    "To get prot2 and prot3, using `slicing` to cut off 1 or 2 nucleotides from the start of genome and then translate it.\n"
   ]
  },
  {
   "cell_type": "code",
   "execution_count": 7,
   "metadata": {},
   "outputs": [],
   "source": [
    "prot1 = translate(genome) \n",
    "prot2 = translate(genome[1:])\n",
    "prot3 = translate(genome[2:])"
   ]
  },
  {
   "cell_type": "markdown",
   "metadata": {},
   "source": [
    "Now you want to figure out the longest stretch of letters (amino acids) in each of `prot1`, `prot2`, and `prot3` that doesn't contain any `'*'` characters. \n",
    "\n",
    "Do this by defining a new function, for example `def find_longest_orf(protseq):` that you can use repeatedly.\n",
    "\n",
    "You can write that function however you like, but as a hint, consider what happens if you do\n",
    "\n",
    "```\n",
    "protseq.split('*')\n",
    "```\n",
    "\n",
    "Could you use the list that is returned by that split statement somehow?"
   ]
  },
  {
   "cell_type": "code",
   "execution_count": 8,
   "metadata": {},
   "outputs": [],
   "source": [
    "def find_longest_orf(protseq):\n",
    "    longest_orf=0\n",
    "    orf_temp=0\n",
    "    for aa in protseq:\n",
    "        if aa !='*':\n",
    "            orf_temp += 1\n",
    "        else:\n",
    "            longest_orf = max(orf_temp, longest_orf)\n",
    "            orf_temp = 0\n",
    "    return longest_orf\n",
    "\n"
   ]
  },
  {
   "cell_type": "markdown",
   "metadata": {},
   "source": [
    "Finally, get the reverse complement of genome, translate it in all three frames, and use the function above to find the longest orf in each. You could use the reverse complement function from the `lecture06.ipynb` notebook."
   ]
  },
  {
   "cell_type": "code",
   "execution_count": 12,
   "metadata": {},
   "outputs": [
    {
     "name": "stdout",
     "output_type": "stream",
     "text": [
      "159\n"
     ]
    }
   ],
   "source": [
    "def rev_comp(seq, base_partner = {'A':'T', 'T':'A', 'C':'G', 'G':'C'}):\n",
    "    rev_seq=''\n",
    "    for i in reversed(seq): rev_seq += base_partner.get(i)\n",
    "    return rev_seq\n",
    "\n",
    "# get rev compliment of genome\n",
    "genome_rev = rev_comp(genome)\n",
    "\n",
    "# get protein sequence for all 3 frames\n",
    "prot1_rev = translate(genome_rev)\n",
    "prot2_rev = translate(genome_rev[1:])\n",
    "prot3_rev = translate(genome_rev[2:])\n",
    "\n",
    "# find longest orf in each frame and total longest of all 3 frames\n",
    "longest_rev_orf = max(find_longest_orf(prot1_rev), find_longest_orf(prot2_rev), find_longest_orf(prot3_rev))\n",
    "print(longest_rev_orf)"
   ]
  },
  {
   "cell_type": "markdown",
   "metadata": {},
   "source": [
    "# Extra credit (2 points, maybe): What is the expected length of the longest open reading frame?\n",
    "\n",
    "Given that we have ~30,000 nucleotides of a given sequence composition, how long would we expect the longest reading frame to be if they were ordered randomly?\n",
    "\n",
    "Do this by randomly shuffling the genome sequence some number of times (say 100) and finding the longest orf in all its translations. Add those lengths up and divide by the number of times you shuffled.\n"
   ]
  },
  {
   "cell_type": "code",
   "execution_count": 13,
   "metadata": {},
   "outputs": [
    {
     "name": "stdout",
     "output_type": "stream",
     "text": [
      "shuffled numlist: [2, 6, 3, 4, 5, 1]\n",
      "shuffled seq: CTGCTCAGGATA\n"
     ]
    }
   ],
   "source": [
    "# random is a very useful python library aka module\n",
    "import random\n",
    "\n",
    "numlist = [1,2,3,4,5,6]\n",
    "\n",
    "# we can call functions from within modules by using this syntax: module.function\n",
    "random.shuffle(numlist)\n",
    "\n",
    "print('shuffled numlist:', numlist)\n",
    "\n",
    "# random.shuffle doesn't work on immutable objects like strings, but we can turn a string into a list...\n",
    "seq = 'ACGTACGTACGT'\n",
    "\n",
    "seqlist = list(seq)\n",
    "\n",
    "random.shuffle(seqlist)\n",
    "\n",
    "seq = ''.join(seqlist)\n",
    "\n",
    "print('shuffled seq:', seq)"
   ]
  },
  {
   "cell_type": "code",
   "execution_count": 14,
   "metadata": {},
   "outputs": [
    {
     "data": {
      "text/plain": [
       "102.02"
      ]
     },
     "execution_count": 14,
     "metadata": {},
     "output_type": "execute_result"
    }
   ],
   "source": [
    "num_shuffles = 100\n",
    "\n",
    "longest_orfs = []\n",
    "\n",
    "\n",
    "def longest_orfs_shuffled(sequence, num_shuffles, longest_orfs = []):\n",
    "    for repeat in range(num_shuffles):\n",
    "        list_seq = list(sequence)\n",
    "        random.shuffle(list_seq)\n",
    "        str_seq = ''.join(list_seq)\n",
    "        longest_orf_temp = find_longest_orf(translate(str_seq))\n",
    "        longest_orfs.append(longest_orf_temp)\n",
    "    \n",
    "    mean_longest_orf = sum(longest_orfs) / num_shuffles\n",
    "    return mean_longest_orf\n",
    "\n",
    "longest_orfs_shuffled(genome, num_shuffles)\n"
   ]
  }
 ],
 "metadata": {
  "interpreter": {
   "hash": "fb339a4bd9d3d7d9b5cd19b3e5e5bed4195715b220aa5cea91e27b9118015749"
  },
  "kernelspec": {
   "display_name": "Python 3.8.6 64-bit ('base': conda)",
   "name": "python3"
  },
  "language_info": {
   "codemirror_mode": {
    "name": "ipython",
    "version": 3
   },
   "file_extension": ".py",
   "mimetype": "text/x-python",
   "name": "python",
   "nbconvert_exporter": "python",
   "pygments_lexer": "ipython3",
   "version": "3.8.6"
  }
 },
 "nbformat": 4,
 "nbformat_minor": 2
}
